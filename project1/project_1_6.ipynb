{
 "cells": [
  {
   "cell_type": "markdown",
   "id": "cd11da2a",
   "metadata": {},
   "source": [
    "# Project 1, Part 6, Identifying Best Customers\n"
   ]
  },
  {
   "cell_type": "markdown",
   "id": "701f1c25",
   "metadata": {},
   "source": [
    "# 1.6 Ideas on how the sales data can be used to help identify best customers\n",
    "\n",
    "The data science team would like to know your best ideas on how the sales data can be used to help identify the company's best customers.\n",
    "\n",
    "\n",
    "\n",
    "They are going to start with the most common and most basic model known as RFM, which consists of the 3 dimensions.\n",
    "\n",
    "* R - Recency - How recently did the customer purchase?\n",
    "\n",
    "* F - Frequency - How often do they purchase?\n",
    "\n",
    "* M - Monetary Value - How much do they spend?\n",
    "\n",
    "\n",
    "\n",
    "At first glance, it's pretty easy to think of a simple query for each dimension.\n",
    "\n",
    "However, after some thought, it's not quite so easy. It's very open ended, with a lot of grey areas, and no single right or wrong answer (just like 99% of data science and AI!)  For each dimension, there can be some pretty complex ways to determine.\n",
    "\n",
    "The data science team also has to come up with a way to synthesize the 3 dimensions into a single customer value for each customer.\n",
    "\n",
    "\n",
    "\n",
    "The data science team would like for you to present your ideas in the form of 4 paragraphs as follows:\n",
    "\n",
    "* Recency - A paragraph of 3 to 5 sentences briefly explaining your ideas on how the data can be used to determine recency.  \n",
    "\n",
    "* Frequency - A paragraph of 3 to 5 sentences briefly explaining your ideas on how the data can be used to determine frequency.\n",
    "\n",
    "* Monetary Value - A paragraph of 3 to 5 sentences briefly explaining your ideas on how the data can be used to determine monetary value.\n",
    "\n",
    "* Synthesis - A paragraph of 3 to 5 sentences briefly explaining your ideas on how to synthesize the 3 dimensions of recency, frequency, and monetary value into a customer value for each customer and how to determine who the best customers are.\n",
    "\n",
    "\n",
    "\n",
    "Put all 4 paragraphs in a single markdown cell.\n",
    "\n",
    "Note that you do not write code for this, only english language descriptions of your ideas.\n",
    "\n"
   ]
  },
  {
   "cell_type": "markdown",
   "id": "67dd986f",
   "metadata": {},
   "source": [
    "# Recommendations on RFM using Sales Data\n",
    "\n",
    "\n",
    "\n",
    "#### Recency\n",
    "\n",
    "The sales data can be used to query customers who have recently purchased a meal (e.g. within past month) and those who have not purchased anything in months. The former group will have our products fresh on their minds and are likely to come back if they are incentivized. They are also more likely to respond to feedback surveys which will be beneficial in understanding shopping behavior. The latter group can be considered for promotional material to bolster new sales. \n",
    "\n",
    "#### Frequency\n",
    "\n",
    "It is important to identify repeat customers to be able to predict future sales. One-time customers are good targets for follow-up campaigns to convert them into frequent buyers. Also, querying for stores that have more repeat customers (or frequent purchases for a particular product) will inform us on the most effective sales strategy that can be applied to the entire organization. \n",
    "\n",
    "#### Monetary\n",
    "\n",
    "Sales data can help us understand if we should focus more on those who purchase frequently but in lesser amounts, or those who purchase in bulk but less frequently. Analyzing by store ID or day of week (or time of year) can determine the characteristics of our best customers from a locational or seasonal perspective. For example, a quick look at the products sold by day of week in the 2020 dataset validates that customers purchase more during weekends. \n",
    "#### Synthesis \n",
    "\n",
    "Considering the above points, the ideal customer is one who purchases frequently and in large amounts. The distribution of available sales data will help set a baseline for average dollars spent and number of purchases by customer. Using this information, we can classify customers into groups and engage with them differently until they fit desired characteristics.  \n",
    "\n",
    "\n"
   ]
  },
  {
   "cell_type": "code",
   "execution_count": null,
   "id": "7202ac1c",
   "metadata": {},
   "outputs": [],
   "source": []
  }
 ],
 "metadata": {
  "kernelspec": {
   "display_name": "Python 3",
   "language": "python",
   "name": "python3"
  },
  "language_info": {
   "codemirror_mode": {
    "name": "ipython",
    "version": 3
   },
   "file_extension": ".py",
   "mimetype": "text/x-python",
   "name": "python",
   "nbconvert_exporter": "python",
   "pygments_lexer": "ipython3",
   "version": "3.8.8"
  }
 },
 "nbformat": 4,
 "nbformat_minor": 5
}
