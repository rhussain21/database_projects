{
 "cells": [
  {
   "cell_type": "markdown",
   "id": "3f465500",
   "metadata": {},
   "source": [
    "# Project 2, Part 7, Analysis on continuing to withhold customer data from 3rd parties\n",
    "\n",
    "\n"
   ]
  },
  {
   "cell_type": "markdown",
   "id": "1cf92eab",
   "metadata": {},
   "source": [
    "# 2.7 Analysis on continuing to withhold customer data from 3rd parties\n",
    "\n",
    "As stated in the scenario, like most companies, AGM does not want to give out its customer list to 3rd party sales channels.  The downside is, as we have seen, that customer first names, last names, and street addresses will have some variations and not be exact matches.\n",
    "\n",
    "The data science team would like your analysis of both options:\n",
    "\n",
    "1)  Continue to withhold the customer data from 3rd party sales channels\n",
    "\n",
    "2)  Give customer data to 3rd party sales channels\n",
    "\n",
    "The data science team would also like your recommendation on which option you think is best.\n",
    "\n",
    "In the markdown cell:\n",
    "* Write a paragraph of 3 to 10 sentences for 1.\n",
    "* Write a paragraph of 3 to 10 sentences for 2.\n",
    "* Write a paragraph of 3 to 10 sentences with your recommendation.\n",
    "\n",
    "You are not required to write any queries nor any code nor create any data visualizations.  Simply provide English text.\n"
   ]
  },
  {
   "attachments": {},
   "cell_type": "markdown",
   "id": "c8086a63",
   "metadata": {},
   "source": [
    "# Analysis of Data Sharing with 3rd Parties\n",
    "\n",
    "As shown through the data engineering exercises, we are able to easily set up staging and mapping tables that linked our information with Peak’s. Despite the initial effort, we have demonstrated that we can automate a process to collect JSON files from 3rd parties and calculate analytics. We successfully calculated the number of meals sold and the dollars generated from sales and this information is going to give us insight on how our business is performing. \n",
    "\n",
    "However, we should also note that 13.4% of Peak’s customer information did not match with ours. This could be due to record-keeping practices on their end. Having mismatching records is problematic for us as we are ultimately responsible for customer satisfaction. Without accurate customer information, it would be difficult to address any potential issues and future sales can be impacted. \n",
    "\n",
    "Given the percentage of unmatching customers, my recommendation is to 1) share customer information with third parties and 2) explore terms and conditions that would protect our customers from unsolicited offers or having their information shared with non-delivery partners. One consideration for this is that the faster we scale our operations, it will be more difficult to clean and manually correct any mismatched data. The administrative effort of setting up our system to communicate with Peak’s API can be justified if it means preventing losing sales in the long term. \n",
    "\n"
   ]
  },
  {
   "cell_type": "code",
   "execution_count": null,
   "id": "34e28cd5",
   "metadata": {},
   "outputs": [],
   "source": []
  }
 ],
 "metadata": {
  "kernelspec": {
   "display_name": "Python 3",
   "language": "python",
   "name": "python3"
  },
  "language_info": {
   "codemirror_mode": {
    "name": "ipython",
    "version": 3
   },
   "file_extension": ".py",
   "mimetype": "text/x-python",
   "name": "python",
   "nbconvert_exporter": "python",
   "pygments_lexer": "ipython3",
   "version": "3.8.8"
  }
 },
 "nbformat": 4,
 "nbformat_minor": 5
}
